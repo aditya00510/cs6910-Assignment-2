{
  "nbformat": 4,
  "nbformat_minor": 0,
  "metadata": {
    "colab": {
      "name": "DLA2_Part A_Q1.ipynb",
      "provenance": [],
      "collapsed_sections": []
    },
    "kernelspec": {
      "name": "python3",
      "display_name": "Python 3"
    },
    "language_info": {
      "name": "python"
    },
    "accelerator": "GPU"
  },
  "cells": [
    {
      "cell_type": "code",
      "metadata": {
        "colab": {
          "base_uri": "https://localhost:8080/"
        },
        "id": "w9J9e4aj3-W5",
        "outputId": "818895fd-f035-4bad-f58f-74ba824369ee"
      },
      "source": [
        "!wget --header=\"Host: storage.googleapis.com\" --header=\"User-Agent: Mozilla/5.0 (Windows NT 10.0; Win64; x64) AppleWebKit/537.36 (KHTML, like Gecko) Chrome/89.0.4389.114 Safari/537.36 Edg/89.0.774.68\" --header=\"Accept: text/html,application/xhtml+xml,application/xml;q=0.9,image/webp,image/apng,*/*;q=0.8,application/signed-exchange;v=b3;q=0.9\" --header=\"Accept-Language: en-US,en;q=0.9\" \"https://storage.googleapis.com/wandb_datasets/nature_12K.zip\" -c -O 'nature_12K.zip'"
      ],
      "execution_count": 1,
      "outputs": [
        {
          "output_type": "stream",
          "text": [
            "--2021-04-15 05:10:50--  https://storage.googleapis.com/wandb_datasets/nature_12K.zip\n",
            "Resolving storage.googleapis.com (storage.googleapis.com)... 172.217.9.208, 172.217.7.208, 172.217.164.176, ...\n",
            "Connecting to storage.googleapis.com (storage.googleapis.com)|172.217.9.208|:443... connected.\n",
            "HTTP request sent, awaiting response... 200 OK\n",
            "Length: 3816687935 (3.6G) [application/zip]\n",
            "Saving to: ‘nature_12K.zip’\n",
            "\n",
            "nature_12K.zip      100%[===================>]   3.55G  36.9MB/s    in 65s     \n",
            "\n",
            "2021-04-15 05:11:56 (55.6 MB/s) - ‘nature_12K.zip’ saved [3816687935/3816687935]\n",
            "\n"
          ],
          "name": "stdout"
        }
      ]
    },
    {
      "cell_type": "code",
      "metadata": {
        "id": "V-k491IA4EXB"
      },
      "source": [
        "!unzip \"/content/nature_12K.zip\""
      ],
      "execution_count": null,
      "outputs": []
    },
    {
      "cell_type": "code",
      "metadata": {
        "id": "9LvtutmA4EUt"
      },
      "source": [
        "import shutil\n",
        "import pandas as pd\n",
        "import os\n",
        "import numpy as np\n",
        "import matplotlib.pyplot as plt\n",
        "import cv2\n",
        "import tensorflow as tf\n",
        "from tensorflow.keras.layers import Dense,Input,Conv2D,MaxPooling2D,Activation,Dropout,Flatten,BatchNormalization\n",
        "from tensorflow.keras.models import Model,Sequential\n",
        "import random \n",
        "from keras.preprocessing.image import ImageDataGenerator\n",
        "from keras import applications"
      ],
      "execution_count": 3,
      "outputs": []
    },
    {
      "cell_type": "code",
      "metadata": {
        "id": "JLFAT6QY8DKk"
      },
      "source": [
        "class CNN:\n",
        "  def __init__(self,no_of_filters=16,size_of_filters=(3,3),activation_func=\"relu\",neurons_in_dense_layer=128\n",
        "               ,dropout=0.3,batch_norm=False,doubling=False,augmentation=False):\n",
        "    self.augmentation = augmentation\n",
        "    self.dropout = dropout\n",
        "    self.doubling = doubling\n",
        "    self.batch_norm = batch_norm\n",
        "    self.no_of_filters = no_of_filters\n",
        "    self.size_of_filters = size_of_filters\n",
        "    self.activation_func = activation_func\n",
        "    self.neurons_in_dense_layer = neurons_in_dense_layer\n",
        "    self.train_path = \"/content/inaturalist_12K/train/\"\n",
        "    self.cv_path = \"/content/inaturalist_12K/cv/\"\n",
        "    self.test_path = \"/content/inaturalist_12K/val/\"\n",
        "    \n",
        "  def generate_data(self):\n",
        "    if self.augmentation:\n",
        "      train_datagen = ImageDataGenerator(rescale=1./255,shear_range=0.2,horizontal_flip=True)\n",
        "    else:\n",
        "      train_datagen = ImageDataGenerator(rescale=1./255)\n",
        "    cv_datagen = ImageDataGenerator(rescale=1./255)\n",
        "    test_datagen = ImageDataGenerator(rescale=1./255)\n",
        "\n",
        "    self.train_generator = train_datagen.flow_from_directory(self.train_path,target_size=(224,224),seed=10,batch_size=64,shuffle=True,class_mode=\"categorical\",color_mode=\"rgb\")\n",
        "    self.cv_generator = cv_datagen.flow_from_directory(self.cv_path,target_size=(224,224),seed=10,batch_size=64,shuffle=True,class_mode=\"categorical\",color_mode=\"rgb\")\n",
        "    self.test_generator = test_datagen.flow_from_directory(self.test_path,target_size=(224,224),seed=10,batch_size=64,shuffle=True,class_mode=\"categorical\",color_mode=\"rgb\")\n",
        "\n",
        "  def create_cv_data(self):\n",
        "    classes = sorted(os.listdir(self.train_path))[1:]\n",
        "    os.mkdir(self.cv_path)\n",
        "    for cls in classes:\n",
        "      os.mkdir(self.cv_path+cls)\n",
        "\n",
        "    for cls in classes:\n",
        "      no_of_files = len(os.listdir(self.train_path+cls))\n",
        "      files = os.listdir(self.train_path+cls)\n",
        "      files = np.asarray(files)\n",
        "\n",
        "      x = [i for i in range(no_of_files)]\n",
        "      random.shuffle(x)\n",
        "      index = x[:int(0.1*no_of_files)]\n",
        "      file_names = files[index]\n",
        "\n",
        "      for z in file_names:\n",
        "        shutil.move(self.train_path+cls+\"/\"+z , self.cv_path+cls+\"/\"+z)\n",
        "\n",
        "  def create_model(self):\n",
        "    self.generate_data()\n",
        "    model = Sequential()\n",
        "    random.seed(10)\n",
        "    for i in range(5):\n",
        "      if i==0:\n",
        "        model.add(Conv2D(self.no_of_filters, self.size_of_filters ,padding=\"same\",activation= self.activation_func, input_shape=(224,224,3)))\n",
        "      else:\n",
        "        if self.doubling:\n",
        "          model.add(Conv2D(self.no_of_filters*(2**i), self.size_of_filters ,padding=\"same\",activation = self.activation_func))\n",
        "        else:\n",
        "          model.add(Conv2D(self.no_of_filters, self.size_of_filters ,padding=\"same\",activation = self.activation_func))\n",
        "      \n",
        "      if i!=0 and i%2 == 0 and self.batch_norm:\n",
        "        model.add(BatchNormalization())\n",
        "      model.add(MaxPooling2D(pool_size=(2, 2))) \n",
        "\n",
        "    model.add(Flatten())\n",
        "    model.add(Dropout(self.dropout))\n",
        "    model.add(Dense(self.neurons_in_dense_layer,activation = self.activation_func))\n",
        "    if self.batch_norm:\n",
        "      model.add(BatchNormalization())\n",
        "    model.add(Dropout(self.dropout))\n",
        "    model.add(Dense(10,activation='softmax'))\n",
        "    return model\n"
      ],
      "execution_count": 4,
      "outputs": []
    },
    {
      "cell_type": "code",
      "metadata": {
        "colab": {
          "base_uri": "https://localhost:8080/"
        },
        "id": "YTmv0TCk5t_V",
        "outputId": "df2b721b-9d10-454d-8814-43d9fa401c61"
      },
      "source": [
        "cnn = CNN(no_of_filters=32,neurons_in_dense_layer=64,dropout = 0.2\n",
        "              ,batch_norm=False,doubling=False,augmentation=False)\n",
        "cnn.create_cv_data()\n",
        "\n",
        "model = cnn.create_model()\n",
        "model.compile(optimizer=tf.keras.optimizers.Adam(lr=0.0008),loss='categorical_crossentropy',metrics=['accuracy'])\n",
        "model.fit(cnn.train_generator, validation_data = cnn.cv_generator,epochs=6)"
      ],
      "execution_count": 5,
      "outputs": [
        {
          "output_type": "stream",
          "text": [
            "Found 9000 images belonging to 10 classes.\n",
            "Found 999 images belonging to 10 classes.\n",
            "Found 2000 images belonging to 10 classes.\n",
            "Epoch 1/6\n",
            "141/141 [==============================] - 151s 842ms/step - loss: 2.2878 - accuracy: 0.1198 - val_loss: 2.1125 - val_accuracy: 0.2322\n",
            "Epoch 2/6\n",
            "141/141 [==============================] - 113s 804ms/step - loss: 2.1295 - accuracy: 0.2190 - val_loss: 2.0287 - val_accuracy: 0.2693\n",
            "Epoch 3/6\n",
            "141/141 [==============================] - 106s 751ms/step - loss: 2.0311 - accuracy: 0.2713 - val_loss: 2.0052 - val_accuracy: 0.2963\n",
            "Epoch 4/6\n",
            "141/141 [==============================] - 107s 759ms/step - loss: 1.9879 - accuracy: 0.2898 - val_loss: 1.9198 - val_accuracy: 0.3173\n",
            "Epoch 5/6\n",
            "141/141 [==============================] - 110s 781ms/step - loss: 1.9037 - accuracy: 0.3187 - val_loss: 1.8745 - val_accuracy: 0.3373\n",
            "Epoch 6/6\n",
            "141/141 [==============================] - 107s 762ms/step - loss: 1.8629 - accuracy: 0.3301 - val_loss: 1.8534 - val_accuracy: 0.3363\n"
          ],
          "name": "stdout"
        },
        {
          "output_type": "execute_result",
          "data": {
            "text/plain": [
              "<tensorflow.python.keras.callbacks.History at 0x7f7b89d3dc90>"
            ]
          },
          "metadata": {
            "tags": []
          },
          "execution_count": 5
        }
      ]
    },
    {
      "cell_type": "code",
      "metadata": {
        "colab": {
          "base_uri": "https://localhost:8080/"
        },
        "id": "XT63QeFvqmtT",
        "outputId": "2bedacde-4d2f-46db-9add-a01afabfcc16"
      },
      "source": [
        "model.summary()"
      ],
      "execution_count": null,
      "outputs": [
        {
          "output_type": "stream",
          "text": [
            "Model: \"sequential\"\n",
            "_________________________________________________________________\n",
            "Layer (type)                 Output Shape              Param #   \n",
            "=================================================================\n",
            "conv2d (Conv2D)              (None, 224, 224, 32)      896       \n",
            "_________________________________________________________________\n",
            "max_pooling2d (MaxPooling2D) (None, 112, 112, 32)      0         \n",
            "_________________________________________________________________\n",
            "conv2d_1 (Conv2D)            (None, 112, 112, 32)      9248      \n",
            "_________________________________________________________________\n",
            "max_pooling2d_1 (MaxPooling2 (None, 56, 56, 32)        0         \n",
            "_________________________________________________________________\n",
            "conv2d_2 (Conv2D)            (None, 56, 56, 32)        9248      \n",
            "_________________________________________________________________\n",
            "max_pooling2d_2 (MaxPooling2 (None, 28, 28, 32)        0         \n",
            "_________________________________________________________________\n",
            "conv2d_3 (Conv2D)            (None, 28, 28, 32)        9248      \n",
            "_________________________________________________________________\n",
            "max_pooling2d_3 (MaxPooling2 (None, 14, 14, 32)        0         \n",
            "_________________________________________________________________\n",
            "conv2d_4 (Conv2D)            (None, 14, 14, 32)        9248      \n",
            "_________________________________________________________________\n",
            "max_pooling2d_4 (MaxPooling2 (None, 7, 7, 32)          0         \n",
            "_________________________________________________________________\n",
            "flatten (Flatten)            (None, 1568)              0         \n",
            "_________________________________________________________________\n",
            "dropout (Dropout)            (None, 1568)              0         \n",
            "_________________________________________________________________\n",
            "dense (Dense)                (None, 64)                100416    \n",
            "_________________________________________________________________\n",
            "dropout_1 (Dropout)          (None, 64)                0         \n",
            "_________________________________________________________________\n",
            "dense_1 (Dense)              (None, 10)                650       \n",
            "=================================================================\n",
            "Total params: 138,954\n",
            "Trainable params: 138,954\n",
            "Non-trainable params: 0\n",
            "_________________________________________________________________\n"
          ],
          "name": "stdout"
        }
      ]
    },
    {
      "cell_type": "code",
      "metadata": {
        "colab": {
          "base_uri": "https://localhost:8080/"
        },
        "id": "0rlJzwvPEhjr",
        "outputId": "d95414be-e96f-4603-e9e5-3a54390b4256"
      },
      "source": [
        "model.fit(cnn.train_generator,validation_data=cnn.test_generator)"
      ],
      "execution_count": 7,
      "outputs": [
        {
          "output_type": "stream",
          "text": [
            "141/141 [==============================] - 120s 849ms/step - loss: 1.8271 - accuracy: 0.3650 - val_loss: 1.8353 - val_accuracy: 0.3595\n"
          ],
          "name": "stdout"
        },
        {
          "output_type": "execute_result",
          "data": {
            "text/plain": [
              "<tensorflow.python.keras.callbacks.History at 0x7f7b89615790>"
            ]
          },
          "metadata": {
            "tags": []
          },
          "execution_count": 7
        }
      ]
    }
  ]
}