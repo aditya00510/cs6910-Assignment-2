{
  "nbformat": 4,
  "nbformat_minor": 0,
  "metadata": {
    "colab": {
      "name": "DL A2Q4.ipynb",
      "provenance": [],
      "collapsed_sections": []
    },
    "kernelspec": {
      "name": "python3",
      "display_name": "Python 3"
    },
    "language_info": {
      "name": "python"
    },
    "accelerator": "GPU",
    "widgets": {
      "application/vnd.jupyter.widget-state+json": {
        "852fb8f14b984f4cb8ce63a70f5bde97": {
          "model_module": "@jupyter-widgets/controls",
          "model_name": "VBoxModel",
          "state": {
            "_view_name": "VBoxView",
            "_dom_classes": [],
            "_model_name": "VBoxModel",
            "_view_module": "@jupyter-widgets/controls",
            "_model_module_version": "1.5.0",
            "_view_count": null,
            "_view_module_version": "1.5.0",
            "box_style": "",
            "layout": "IPY_MODEL_3b176da6f24c418f947a7c7612127314",
            "_model_module": "@jupyter-widgets/controls",
            "children": [
              "IPY_MODEL_87d11402efa34804b227576c065178f4",
              "IPY_MODEL_010784b35a944642bf792eccf0f4becf"
            ]
          }
        },
        "3b176da6f24c418f947a7c7612127314": {
          "model_module": "@jupyter-widgets/base",
          "model_name": "LayoutModel",
          "state": {
            "_view_name": "LayoutView",
            "grid_template_rows": null,
            "right": null,
            "justify_content": null,
            "_view_module": "@jupyter-widgets/base",
            "overflow": null,
            "_model_module_version": "1.2.0",
            "_view_count": null,
            "flex_flow": null,
            "width": null,
            "min_width": null,
            "border": null,
            "align_items": null,
            "bottom": null,
            "_model_module": "@jupyter-widgets/base",
            "top": null,
            "grid_column": null,
            "overflow_y": null,
            "overflow_x": null,
            "grid_auto_flow": null,
            "grid_area": null,
            "grid_template_columns": null,
            "flex": null,
            "_model_name": "LayoutModel",
            "justify_items": null,
            "grid_row": null,
            "max_height": null,
            "align_content": null,
            "visibility": null,
            "align_self": null,
            "height": null,
            "min_height": null,
            "padding": null,
            "grid_auto_rows": null,
            "grid_gap": null,
            "max_width": null,
            "order": null,
            "_view_module_version": "1.2.0",
            "grid_template_areas": null,
            "object_position": null,
            "object_fit": null,
            "grid_auto_columns": null,
            "margin": null,
            "display": null,
            "left": null
          }
        },
        "87d11402efa34804b227576c065178f4": {
          "model_module": "@jupyter-widgets/controls",
          "model_name": "LabelModel",
          "state": {
            "_view_name": "LabelView",
            "style": "IPY_MODEL_a51ad4a6d44942f1b6a78a43276bf404",
            "_dom_classes": [],
            "description": "",
            "_model_name": "LabelModel",
            "placeholder": "​",
            "_view_module": "@jupyter-widgets/controls",
            "_model_module_version": "1.5.0",
            "value": " 2.98MB of 2.98MB uploaded (0.00MB deduped)\r",
            "_view_count": null,
            "_view_module_version": "1.5.0",
            "description_tooltip": null,
            "_model_module": "@jupyter-widgets/controls",
            "layout": "IPY_MODEL_a534946fbea54d15a037859be405acfd"
          }
        },
        "010784b35a944642bf792eccf0f4becf": {
          "model_module": "@jupyter-widgets/controls",
          "model_name": "FloatProgressModel",
          "state": {
            "_view_name": "ProgressView",
            "style": "IPY_MODEL_fc8e6e09e2b34444bf26a29ce6e9fb90",
            "_dom_classes": [],
            "description": "",
            "_model_name": "FloatProgressModel",
            "bar_style": "",
            "max": 1,
            "_view_module": "@jupyter-widgets/controls",
            "_model_module_version": "1.5.0",
            "value": 1,
            "_view_count": null,
            "_view_module_version": "1.5.0",
            "orientation": "horizontal",
            "min": 0,
            "description_tooltip": null,
            "_model_module": "@jupyter-widgets/controls",
            "layout": "IPY_MODEL_4df33afd2091421c9ee2898473d73a79"
          }
        },
        "a51ad4a6d44942f1b6a78a43276bf404": {
          "model_module": "@jupyter-widgets/controls",
          "model_name": "DescriptionStyleModel",
          "state": {
            "_view_name": "StyleView",
            "_model_name": "DescriptionStyleModel",
            "description_width": "",
            "_view_module": "@jupyter-widgets/base",
            "_model_module_version": "1.5.0",
            "_view_count": null,
            "_view_module_version": "1.2.0",
            "_model_module": "@jupyter-widgets/controls"
          }
        },
        "a534946fbea54d15a037859be405acfd": {
          "model_module": "@jupyter-widgets/base",
          "model_name": "LayoutModel",
          "state": {
            "_view_name": "LayoutView",
            "grid_template_rows": null,
            "right": null,
            "justify_content": null,
            "_view_module": "@jupyter-widgets/base",
            "overflow": null,
            "_model_module_version": "1.2.0",
            "_view_count": null,
            "flex_flow": null,
            "width": null,
            "min_width": null,
            "border": null,
            "align_items": null,
            "bottom": null,
            "_model_module": "@jupyter-widgets/base",
            "top": null,
            "grid_column": null,
            "overflow_y": null,
            "overflow_x": null,
            "grid_auto_flow": null,
            "grid_area": null,
            "grid_template_columns": null,
            "flex": null,
            "_model_name": "LayoutModel",
            "justify_items": null,
            "grid_row": null,
            "max_height": null,
            "align_content": null,
            "visibility": null,
            "align_self": null,
            "height": null,
            "min_height": null,
            "padding": null,
            "grid_auto_rows": null,
            "grid_gap": null,
            "max_width": null,
            "order": null,
            "_view_module_version": "1.2.0",
            "grid_template_areas": null,
            "object_position": null,
            "object_fit": null,
            "grid_auto_columns": null,
            "margin": null,
            "display": null,
            "left": null
          }
        },
        "fc8e6e09e2b34444bf26a29ce6e9fb90": {
          "model_module": "@jupyter-widgets/controls",
          "model_name": "ProgressStyleModel",
          "state": {
            "_view_name": "StyleView",
            "_model_name": "ProgressStyleModel",
            "description_width": "",
            "_view_module": "@jupyter-widgets/base",
            "_model_module_version": "1.5.0",
            "_view_count": null,
            "_view_module_version": "1.2.0",
            "bar_color": null,
            "_model_module": "@jupyter-widgets/controls"
          }
        },
        "4df33afd2091421c9ee2898473d73a79": {
          "model_module": "@jupyter-widgets/base",
          "model_name": "LayoutModel",
          "state": {
            "_view_name": "LayoutView",
            "grid_template_rows": null,
            "right": null,
            "justify_content": null,
            "_view_module": "@jupyter-widgets/base",
            "overflow": null,
            "_model_module_version": "1.2.0",
            "_view_count": null,
            "flex_flow": null,
            "width": null,
            "min_width": null,
            "border": null,
            "align_items": null,
            "bottom": null,
            "_model_module": "@jupyter-widgets/base",
            "top": null,
            "grid_column": null,
            "overflow_y": null,
            "overflow_x": null,
            "grid_auto_flow": null,
            "grid_area": null,
            "grid_template_columns": null,
            "flex": null,
            "_model_name": "LayoutModel",
            "justify_items": null,
            "grid_row": null,
            "max_height": null,
            "align_content": null,
            "visibility": null,
            "align_self": null,
            "height": null,
            "min_height": null,
            "padding": null,
            "grid_auto_rows": null,
            "grid_gap": null,
            "max_width": null,
            "order": null,
            "_view_module_version": "1.2.0",
            "grid_template_areas": null,
            "object_position": null,
            "object_fit": null,
            "grid_auto_columns": null,
            "margin": null,
            "display": null,
            "left": null
          }
        }
      }
    }
  },
  "cells": [
    {
      "cell_type": "code",
      "metadata": {
        "colab": {
          "base_uri": "https://localhost:8080/"
        },
        "id": "Z5FXG3ASVLBX",
        "outputId": "0131e43a-bb25-4411-d51a-1a20cbdd2edb"
      },
      "source": [
        "!curl --header \"Host: storage.googleapis.com\" --header \"User-Agent: Mozilla/5.0 (Windows NT 10.0; Win64; x64) AppleWebKit/537.36 (KHTML, like Gecko) Chrome/89.0.4389.114 Safari/537.36 Edg/89.0.774.76\" --header \"Accept: text/html,application/xhtml+xml,application/xml;q=0.9,image/webp,image/apng,*/*;q=0.8,application/signed-exchange;v=b3;q=0.9\" --header \"Accept-Language: en-US,en;q=0.9\" \"https://storage.googleapis.com/wandb_datasets/nature_12K.zip\" -L -o \"nature_12K.zip\""
      ],
      "execution_count": 1,
      "outputs": [
        {
          "output_type": "stream",
          "text": [
            "  % Total    % Received % Xferd  Average Speed   Time    Time     Time  Current\n",
            "                                 Dload  Upload   Total   Spent    Left  Speed\n",
            "100 3639M  100 3639M    0     0  56.2M      0  0:01:04  0:01:04 --:--:-- 39.5M\n"
          ],
          "name": "stdout"
        }
      ]
    },
    {
      "cell_type": "code",
      "metadata": {
        "id": "QMTT_JfvzVux"
      },
      "source": [
        "!unzip \"/content/nature_12K.zip\""
      ],
      "execution_count": null,
      "outputs": []
    },
    {
      "cell_type": "code",
      "metadata": {
        "id": "NSCEhz0QzVoW"
      },
      "source": [
        "import shutil\n",
        "import pandas as pd\n",
        "import os\n",
        "import numpy as np\n",
        "import matplotlib.pyplot as plt\n",
        "import cv2\n",
        "import tensorflow as tf\n",
        "from tensorflow.keras.layers import Dense,Input,Conv2D,MaxPooling2D,Activation,Dropout,Flatten,BatchNormalization\n",
        "from tensorflow.keras.models import Model,Sequential\n",
        "import random \n",
        "from keras.preprocessing.image import ImageDataGenerator\n",
        "from keras import applications"
      ],
      "execution_count": 3,
      "outputs": []
    },
    {
      "cell_type": "code",
      "metadata": {
        "id": "bIqDXywJzVgd"
      },
      "source": [
        "class CNN:\n",
        "  def __init__(self,no_of_filters=16,size_of_filters=(3,3),activation_func=\"relu\",neurons_in_dense_layer=128\n",
        "               ,dropout=0.3,batch_norm=False,doubling=False,augmentation=False):\n",
        "    self.augmentation = augmentation\n",
        "    self.dropout = dropout\n",
        "    self.doubling = doubling\n",
        "    self.batch_norm = batch_norm\n",
        "    self.no_of_filters = no_of_filters\n",
        "    self.size_of_filters = size_of_filters\n",
        "    self.activation_func = activation_func\n",
        "    self.neurons_in_dense_layer = neurons_in_dense_layer\n",
        "    self.train_path = \"/content/inaturalist_12K/train/\"\n",
        "    self.cv_path = \"/content/inaturalist_12K/cv/\"\n",
        "    self.test_path = \"/content/inaturalist_12K/val/\"\n",
        "    \n",
        "  def generate_data(self):\n",
        "    if self.augmentation:\n",
        "      train_datagen = ImageDataGenerator(rescale=1./255,shear_range=0.2,horizontal_flip=True)\n",
        "    else:\n",
        "      train_datagen = ImageDataGenerator(rescale=1./255)\n",
        "    cv_datagen = ImageDataGenerator(rescale=1./255)\n",
        "    test_datagen = ImageDataGenerator(rescale=1./255)\n",
        "\n",
        "    self.train_generator = train_datagen.flow_from_directory(self.train_path,target_size=(224,224),seed=10,batch_size=64,shuffle=True,class_mode=\"categorical\",color_mode=\"rgb\")\n",
        "    self.cv_generator = cv_datagen.flow_from_directory(self.cv_path,target_size=(224,224),seed=10,batch_size=64,shuffle=True,class_mode=\"categorical\",color_mode=\"rgb\")\n",
        "    self.test_generator = test_datagen.flow_from_directory(self.test_path,target_size=(224,224),seed=10,batch_size=64,shuffle=True,class_mode=\"categorical\",color_mode=\"rgb\")\n",
        "\n",
        "  def create_cv_data(self):\n",
        "    classes = sorted(os.listdir(self.train_path))[1:]\n",
        "    os.mkdir(self.cv_path)\n",
        "    for cls in classes:\n",
        "      os.mkdir(self.cv_path+cls)\n",
        "\n",
        "    for cls in classes:\n",
        "      no_of_files = len(os.listdir(self.train_path+cls))\n",
        "      files = os.listdir(self.train_path+cls)\n",
        "      files = np.asarray(files)\n",
        "\n",
        "      x = [i for i in range(no_of_files)]\n",
        "      random.shuffle(x)\n",
        "      index = x[:int(0.1*no_of_files)]\n",
        "      file_names = files[index]\n",
        "\n",
        "      for z in file_names:\n",
        "        shutil.move(self.train_path+cls+\"/\"+z , self.cv_path+cls+\"/\"+z)\n",
        "\n",
        "  def create_model(self):\n",
        "    self.generate_data()\n",
        "    model = Sequential()\n",
        "    random.seed(10)\n",
        "    for i in range(5):\n",
        "      if i==0:\n",
        "        model.add(Conv2D(self.no_of_filters, self.size_of_filters ,padding=\"same\",activation= self.activation_func, input_shape=(224,224,3)))\n",
        "      else:\n",
        "        if self.doubling:\n",
        "          model.add(Conv2D(self.no_of_filters*(2**i), self.size_of_filters ,padding=\"same\",activation = self.activation_func))\n",
        "        else:\n",
        "          model.add(Conv2D(self.no_of_filters, self.size_of_filters ,padding=\"same\",activation = self.activation_func))\n",
        "      \n",
        "      if i!=0 and i%2 == 0 and self.batch_norm:\n",
        "        model.add(BatchNormalization())\n",
        "      model.add(MaxPooling2D(pool_size=(2, 2))) \n",
        "\n",
        "    model.add(Flatten())\n",
        "    model.add(Dropout(self.dropout))\n",
        "    model.add(Dense(self.neurons_in_dense_layer,activation = self.activation_func))\n",
        "    if self.batch_norm:\n",
        "      model.add(BatchNormalization())\n",
        "    model.add(Dropout(self.dropout))\n",
        "    model.add(Dense(10,activation='softmax'))\n",
        "    return model\n"
      ],
      "execution_count": 4,
      "outputs": []
    },
    {
      "cell_type": "code",
      "metadata": {
        "colab": {
          "base_uri": "https://localhost:8080/"
        },
        "id": "VlqaFwJyzVd-",
        "outputId": "edde2a8f-aeaa-4ab8-dbe5-7a4cbed7ecbe"
      },
      "source": [
        "cnn = CNN(no_of_filters=32,neurons_in_dense_layer=128,dropout =0.3\n",
        "              ,batch_norm=True,doubling=False,augmentation=False)\n",
        "cnn.create_cv_data()\n",
        "model = cnn.create_model()\n",
        "model.compile(optimizer=tf.keras.optimizers.Adam(lr=0.0004),loss='categorical_crossentropy',metrics=['accuracy'])\n",
        "model.fit(cnn.train_generator, validation_data = cnn.cv_generator,epochs=7)"
      ],
      "execution_count": null,
      "outputs": [
        {
          "output_type": "stream",
          "text": [
            "Epoch 1/7\n",
            "141/141 [==============================] - 242s 2s/step - loss: 2.9382 - accuracy: 0.1459 - val_loss: 2.4444 - val_accuracy: 0.1130\n",
            "Epoch 2/7\n",
            "141/141 [==============================] - 209s 1s/step - loss: 2.3702 - accuracy: 0.2140 - val_loss: 2.6662 - val_accuracy: 0.1210\n",
            "Epoch 3/7\n",
            "141/141 [==============================] - 212s 2s/step - loss: 2.1885 - accuracy: 0.2545 - val_loss: 2.3246 - val_accuracy: 0.1430\n",
            "Epoch 4/7\n",
            "141/141 [==============================] - 210s 1s/step - loss: 2.0989 - accuracy: 0.2754 - val_loss: 2.0707 - val_accuracy: 0.2740\n",
            "Epoch 5/7\n",
            "141/141 [==============================] - 212s 2s/step - loss: 2.0587 - accuracy: 0.2891 - val_loss: 2.1270 - val_accuracy: 0.2950\n",
            "Epoch 6/7\n",
            "141/141 [==============================] - 209s 1s/step - loss: 2.0219 - accuracy: 0.3017 - val_loss: 2.0180 - val_accuracy: 0.3100\n",
            "Epoch 7/7\n",
            "141/141 [==============================] - 208s 1s/step - loss: 1.9575 - accuracy: 0.3251 - val_loss: 2.0081 - val_accuracy: 0.3120\n"
          ],
          "name": "stdout"
        },
        {
          "output_type": "execute_result",
          "data": {
            "text/plain": [
              "<tensorflow.python.keras.callbacks.History at 0x7f96f7b73e10>"
            ]
          },
          "metadata": {
            "tags": []
          },
          "execution_count": 7
        }
      ]
    },
    {
      "cell_type": "code",
      "metadata": {
        "id": "4Hi9kVLJnLda"
      },
      "source": [
        "model.save('best_model.h5')"
      ],
      "execution_count": null,
      "outputs": []
    },
    {
      "cell_type": "code",
      "metadata": {
        "id": "jdo8myPHCuhc"
      },
      "source": [
        "model = tf.keras.models.load_model('best_model.h5')"
      ],
      "execution_count": 7,
      "outputs": []
    },
    {
      "cell_type": "code",
      "metadata": {
        "colab": {
          "base_uri": "https://localhost:8080/"
        },
        "id": "yaGTtjZLzVbG",
        "outputId": "eb9e32c7-9fd7-4188-f632-a1ac434fe53a"
      },
      "source": [
        "model.evaluate(cnn.test_generator)"
      ],
      "execution_count": 8,
      "outputs": [
        {
          "output_type": "stream",
          "text": [
            "32/32 [==============================] - 25s 775ms/step - loss: 1.8993 - accuracy: 0.3535\n"
          ],
          "name": "stdout"
        },
        {
          "output_type": "execute_result",
          "data": {
            "text/plain": [
              "[1.899297833442688, 0.35350000858306885]"
            ]
          },
          "metadata": {
            "tags": []
          },
          "execution_count": 8
        }
      ]
    },
    {
      "cell_type": "code",
      "metadata": {
        "id": "uX4_hCSIzVYa",
        "colab": {
          "base_uri": "https://localhost:8080/"
        },
        "outputId": "46e15ee6-17fc-4c67-d118-2f30d7382b9c"
      },
      "source": [
        "!pip install --upgrade wandb\n",
        "import wandb\n",
        "!wandb login 3c967c63b099a3b2acd600aa30008e7de1ea6498\n",
        "from wandb.keras import WandbCallback"
      ],
      "execution_count": null,
      "outputs": [
        {
          "output_type": "stream",
          "text": [
            "Collecting wandb\n",
            "\u001b[?25l  Downloading https://files.pythonhosted.org/packages/d5/5d/20ab24504de2669c9a76a50c9bdaeb44a440b0e5e4b92be881ed323857b1/wandb-0.10.26-py2.py3-none-any.whl (2.1MB)\n",
            "\r\u001b[K     |▏                               | 10kB 16.8MB/s eta 0:00:01\r\u001b[K     |▎                               | 20kB 19.4MB/s eta 0:00:01\r\u001b[K     |▌                               | 30kB 15.5MB/s eta 0:00:01\r\u001b[K     |▋                               | 40kB 14.5MB/s eta 0:00:01\r\u001b[K     |▉                               | 51kB 12.0MB/s eta 0:00:01\r\u001b[K     |█                               | 61kB 10.5MB/s eta 0:00:01\r\u001b[K     |█▏                              | 71kB 11.7MB/s eta 0:00:01\r\u001b[K     |█▎                              | 81kB 12.6MB/s eta 0:00:01\r\u001b[K     |█▍                              | 92kB 12.1MB/s eta 0:00:01\r\u001b[K     |█▋                              | 102kB 11.4MB/s eta 0:00:01\r\u001b[K     |█▊                              | 112kB 11.4MB/s eta 0:00:01\r\u001b[K     |██                              | 122kB 11.4MB/s eta 0:00:01\r\u001b[K     |██                              | 133kB 11.4MB/s eta 0:00:01\r\u001b[K     |██▎                             | 143kB 11.4MB/s eta 0:00:01\r\u001b[K     |██▍                             | 153kB 11.4MB/s eta 0:00:01\r\u001b[K     |██▌                             | 163kB 11.4MB/s eta 0:00:01\r\u001b[K     |██▊                             | 174kB 11.4MB/s eta 0:00:01\r\u001b[K     |██▉                             | 184kB 11.4MB/s eta 0:00:01\r\u001b[K     |███                             | 194kB 11.4MB/s eta 0:00:01\r\u001b[K     |███▏                            | 204kB 11.4MB/s eta 0:00:01\r\u001b[K     |███▍                            | 215kB 11.4MB/s eta 0:00:01\r\u001b[K     |███▌                            | 225kB 11.4MB/s eta 0:00:01\r\u001b[K     |███▋                            | 235kB 11.4MB/s eta 0:00:01\r\u001b[K     |███▉                            | 245kB 11.4MB/s eta 0:00:01\r\u001b[K     |████                            | 256kB 11.4MB/s eta 0:00:01\r\u001b[K     |████▏                           | 266kB 11.4MB/s eta 0:00:01\r\u001b[K     |████▎                           | 276kB 11.4MB/s eta 0:00:01\r\u001b[K     |████▌                           | 286kB 11.4MB/s eta 0:00:01\r\u001b[K     |████▋                           | 296kB 11.4MB/s eta 0:00:01\r\u001b[K     |████▉                           | 307kB 11.4MB/s eta 0:00:01\r\u001b[K     |█████                           | 317kB 11.4MB/s eta 0:00:01\r\u001b[K     |█████                           | 327kB 11.4MB/s eta 0:00:01\r\u001b[K     |█████▎                          | 337kB 11.4MB/s eta 0:00:01\r\u001b[K     |█████▍                          | 348kB 11.4MB/s eta 0:00:01\r\u001b[K     |█████▋                          | 358kB 11.4MB/s eta 0:00:01\r\u001b[K     |█████▊                          | 368kB 11.4MB/s eta 0:00:01\r\u001b[K     |██████                          | 378kB 11.4MB/s eta 0:00:01\r\u001b[K     |██████                          | 389kB 11.4MB/s eta 0:00:01\r\u001b[K     |██████▏                         | 399kB 11.4MB/s eta 0:00:01\r\u001b[K     |██████▍                         | 409kB 11.4MB/s eta 0:00:01\r\u001b[K     |██████▌                         | 419kB 11.4MB/s eta 0:00:01\r\u001b[K     |██████▊                         | 430kB 11.4MB/s eta 0:00:01\r\u001b[K     |██████▉                         | 440kB 11.4MB/s eta 0:00:01\r\u001b[K     |███████                         | 450kB 11.4MB/s eta 0:00:01\r\u001b[K     |███████▏                        | 460kB 11.4MB/s eta 0:00:01\r\u001b[K     |███████▎                        | 471kB 11.4MB/s eta 0:00:01\r\u001b[K     |███████▌                        | 481kB 11.4MB/s eta 0:00:01\r\u001b[K     |███████▋                        | 491kB 11.4MB/s eta 0:00:01\r\u001b[K     |███████▉                        | 501kB 11.4MB/s eta 0:00:01\r\u001b[K     |████████                        | 512kB 11.4MB/s eta 0:00:01\r\u001b[K     |████████▏                       | 522kB 11.4MB/s eta 0:00:01\r\u001b[K     |████████▎                       | 532kB 11.4MB/s eta 0:00:01\r\u001b[K     |████████▍                       | 542kB 11.4MB/s eta 0:00:01\r\u001b[K     |████████▋                       | 552kB 11.4MB/s eta 0:00:01\r\u001b[K     |████████▊                       | 563kB 11.4MB/s eta 0:00:01\r\u001b[K     |█████████                       | 573kB 11.4MB/s eta 0:00:01\r\u001b[K     |█████████                       | 583kB 11.4MB/s eta 0:00:01\r\u001b[K     |█████████▎                      | 593kB 11.4MB/s eta 0:00:01\r\u001b[K     |█████████▍                      | 604kB 11.4MB/s eta 0:00:01\r\u001b[K     |█████████▋                      | 614kB 11.4MB/s eta 0:00:01\r\u001b[K     |█████████▊                      | 624kB 11.4MB/s eta 0:00:01\r\u001b[K     |█████████▉                      | 634kB 11.4MB/s eta 0:00:01\r\u001b[K     |██████████                      | 645kB 11.4MB/s eta 0:00:01\r\u001b[K     |██████████▏                     | 655kB 11.4MB/s eta 0:00:01\r\u001b[K     |██████████▍                     | 665kB 11.4MB/s eta 0:00:01\r\u001b[K     |██████████▌                     | 675kB 11.4MB/s eta 0:00:01\r\u001b[K     |██████████▊                     | 686kB 11.4MB/s eta 0:00:01\r\u001b[K     |██████████▉                     | 696kB 11.4MB/s eta 0:00:01\r\u001b[K     |███████████                     | 706kB 11.4MB/s eta 0:00:01\r\u001b[K     |███████████▏                    | 716kB 11.4MB/s eta 0:00:01\r\u001b[K     |███████████▎                    | 727kB 11.4MB/s eta 0:00:01\r\u001b[K     |███████████▌                    | 737kB 11.4MB/s eta 0:00:01\r\u001b[K     |███████████▋                    | 747kB 11.4MB/s eta 0:00:01\r\u001b[K     |███████████▉                    | 757kB 11.4MB/s eta 0:00:01\r\u001b[K     |████████████                    | 768kB 11.4MB/s eta 0:00:01\r\u001b[K     |████████████                    | 778kB 11.4MB/s eta 0:00:01\r\u001b[K     |████████████▎                   | 788kB 11.4MB/s eta 0:00:01\r\u001b[K     |████████████▍                   | 798kB 11.4MB/s eta 0:00:01\r\u001b[K     |████████████▋                   | 808kB 11.4MB/s eta 0:00:01\r\u001b[K     |████████████▊                   | 819kB 11.4MB/s eta 0:00:01\r\u001b[K     |█████████████                   | 829kB 11.4MB/s eta 0:00:01\r\u001b[K     |█████████████                   | 839kB 11.4MB/s eta 0:00:01\r\u001b[K     |█████████████▎                  | 849kB 11.4MB/s eta 0:00:01\r\u001b[K     |█████████████▍                  | 860kB 11.4MB/s eta 0:00:01\r\u001b[K     |█████████████▌                  | 870kB 11.4MB/s eta 0:00:01\r\u001b[K     |█████████████▊                  | 880kB 11.4MB/s eta 0:00:01\r\u001b[K     |█████████████▉                  | 890kB 11.4MB/s eta 0:00:01\r\u001b[K     |██████████████                  | 901kB 11.4MB/s eta 0:00:01\r\u001b[K     |██████████████▏                 | 911kB 11.4MB/s eta 0:00:01\r\u001b[K     |██████████████▍                 | 921kB 11.4MB/s eta 0:00:01\r\u001b[K     |██████████████▌                 | 931kB 11.4MB/s eta 0:00:01\r\u001b[K     |██████████████▋                 | 942kB 11.4MB/s eta 0:00:01\r\u001b[K     |██████████████▉                 | 952kB 11.4MB/s eta 0:00:01\r\u001b[K     |███████████████                 | 962kB 11.4MB/s eta 0:00:01\r\u001b[K     |███████████████▏                | 972kB 11.4MB/s eta 0:00:01\r\u001b[K     |███████████████▎                | 983kB 11.4MB/s eta 0:00:01\r\u001b[K     |███████████████▌                | 993kB 11.4MB/s eta 0:00:01\r\u001b[K     |███████████████▋                | 1.0MB 11.4MB/s eta 0:00:01\r\u001b[K     |███████████████▊                | 1.0MB 11.4MB/s eta 0:00:01\r\u001b[K     |████████████████                | 1.0MB 11.4MB/s eta 0:00:01\r\u001b[K     |████████████████                | 1.0MB 11.4MB/s eta 0:00:01\r\u001b[K     |████████████████▎               | 1.0MB 11.4MB/s eta 0:00:01\r\u001b[K     |████████████████▍               | 1.1MB 11.4MB/s eta 0:00:01\r\u001b[K     |████████████████▋               | 1.1MB 11.4MB/s eta 0:00:01\r\u001b[K     |████████████████▊               | 1.1MB 11.4MB/s eta 0:00:01\r\u001b[K     |████████████████▉               | 1.1MB 11.4MB/s eta 0:00:01\r\u001b[K     |█████████████████               | 1.1MB 11.4MB/s eta 0:00:01\r\u001b[K     |█████████████████▏              | 1.1MB 11.4MB/s eta 0:00:01\r\u001b[K     |█████████████████▍              | 1.1MB 11.4MB/s eta 0:00:01\r\u001b[K     |█████████████████▌              | 1.1MB 11.4MB/s eta 0:00:01\r\u001b[K     |█████████████████▊              | 1.1MB 11.4MB/s eta 0:00:01\r\u001b[K     |█████████████████▉              | 1.1MB 11.4MB/s eta 0:00:01\r\u001b[K     |██████████████████              | 1.2MB 11.4MB/s eta 0:00:01\r\u001b[K     |██████████████████▏             | 1.2MB 11.4MB/s eta 0:00:01\r\u001b[K     |██████████████████▎             | 1.2MB 11.4MB/s eta 0:00:01\r\u001b[K     |██████████████████▌             | 1.2MB 11.4MB/s eta 0:00:01\r\u001b[K     |██████████████████▋             | 1.2MB 11.4MB/s eta 0:00:01\r\u001b[K     |██████████████████▉             | 1.2MB 11.4MB/s eta 0:00:01\r\u001b[K     |███████████████████             | 1.2MB 11.4MB/s eta 0:00:01\r\u001b[K     |███████████████████▏            | 1.2MB 11.4MB/s eta 0:00:01\r\u001b[K     |███████████████████▎            | 1.2MB 11.4MB/s eta 0:00:01\r\u001b[K     |███████████████████▍            | 1.2MB 11.4MB/s eta 0:00:01\r\u001b[K     |███████████████████▋            | 1.3MB 11.4MB/s eta 0:00:01\r\u001b[K     |███████████████████▊            | 1.3MB 11.4MB/s eta 0:00:01\r\u001b[K     |████████████████████            | 1.3MB 11.4MB/s eta 0:00:01\r\u001b[K     |████████████████████            | 1.3MB 11.4MB/s eta 0:00:01\r\u001b[K     |████████████████████▎           | 1.3MB 11.4MB/s eta 0:00:01\r\u001b[K     |████████████████████▍           | 1.3MB 11.4MB/s eta 0:00:01\r\u001b[K     |████████████████████▌           | 1.3MB 11.4MB/s eta 0:00:01\r\u001b[K     |████████████████████▊           | 1.3MB 11.4MB/s eta 0:00:01\r\u001b[K     |████████████████████▉           | 1.3MB 11.4MB/s eta 0:00:01\r\u001b[K     |█████████████████████           | 1.4MB 11.4MB/s eta 0:00:01\r\u001b[K     |█████████████████████▏          | 1.4MB 11.4MB/s eta 0:00:01\r\u001b[K     |█████████████████████▍          | 1.4MB 11.4MB/s eta 0:00:01\r\u001b[K     |█████████████████████▌          | 1.4MB 11.4MB/s eta 0:00:01\r\u001b[K     |█████████████████████▋          | 1.4MB 11.4MB/s eta 0:00:01\r\u001b[K     |█████████████████████▉          | 1.4MB 11.4MB/s eta 0:00:01\r\u001b[K     |██████████████████████          | 1.4MB 11.4MB/s eta 0:00:01\r\u001b[K     |██████████████████████▏         | 1.4MB 11.4MB/s eta 0:00:01\r\u001b[K     |██████████████████████▎         | 1.4MB 11.4MB/s eta 0:00:01\r\u001b[K     |██████████████████████▌         | 1.4MB 11.4MB/s eta 0:00:01\r\u001b[K     |██████████████████████▋         | 1.5MB 11.4MB/s eta 0:00:01\r\u001b[K     |██████████████████████▉         | 1.5MB 11.4MB/s eta 0:00:01\r\u001b[K     |███████████████████████         | 1.5MB 11.4MB/s eta 0:00:01\r\u001b[K     |███████████████████████         | 1.5MB 11.4MB/s eta 0:00:01\r\u001b[K     |███████████████████████▎        | 1.5MB 11.4MB/s eta 0:00:01\r\u001b[K     |███████████████████████▍        | 1.5MB 11.4MB/s eta 0:00:01\r\u001b[K     |███████████████████████▋        | 1.5MB 11.4MB/s eta 0:00:01\r\u001b[K     |███████████████████████▊        | 1.5MB 11.4MB/s eta 0:00:01\r\u001b[K     |████████████████████████        | 1.5MB 11.4MB/s eta 0:00:01\r\u001b[K     |████████████████████████        | 1.5MB 11.4MB/s eta 0:00:01\r\u001b[K     |████████████████████████▏       | 1.6MB 11.4MB/s eta 0:00:01\r\u001b[K     |████████████████████████▍       | 1.6MB 11.4MB/s eta 0:00:01\r\u001b[K     |████████████████████████▌       | 1.6MB 11.4MB/s eta 0:00:01\r\u001b[K     |████████████████████████▊       | 1.6MB 11.4MB/s eta 0:00:01\r\u001b[K     |████████████████████████▉       | 1.6MB 11.4MB/s eta 0:00:01\r\u001b[K     |█████████████████████████       | 1.6MB 11.4MB/s eta 0:00:01\r\u001b[K     |█████████████████████████▏      | 1.6MB 11.4MB/s eta 0:00:01\r\u001b[K     |█████████████████████████▎      | 1.6MB 11.4MB/s eta 0:00:01\r\u001b[K     |█████████████████████████▌      | 1.6MB 11.4MB/s eta 0:00:01\r\u001b[K     |█████████████████████████▋      | 1.6MB 11.4MB/s eta 0:00:01\r\u001b[K     |█████████████████████████▉      | 1.7MB 11.4MB/s eta 0:00:01\r\u001b[K     |██████████████████████████      | 1.7MB 11.4MB/s eta 0:00:01\r\u001b[K     |██████████████████████████▏     | 1.7MB 11.4MB/s eta 0:00:01\r\u001b[K     |██████████████████████████▎     | 1.7MB 11.4MB/s eta 0:00:01\r\u001b[K     |██████████████████████████▌     | 1.7MB 11.4MB/s eta 0:00:01\r\u001b[K     |██████████████████████████▋     | 1.7MB 11.4MB/s eta 0:00:01\r\u001b[K     |██████████████████████████▊     | 1.7MB 11.4MB/s eta 0:00:01\r\u001b[K     |███████████████████████████     | 1.7MB 11.4MB/s eta 0:00:01\r\u001b[K     |███████████████████████████     | 1.7MB 11.4MB/s eta 0:00:01\r\u001b[K     |███████████████████████████▎    | 1.8MB 11.4MB/s eta 0:00:01\r\u001b[K     |███████████████████████████▍    | 1.8MB 11.4MB/s eta 0:00:01\r\u001b[K     |███████████████████████████▋    | 1.8MB 11.4MB/s eta 0:00:01\r\u001b[K     |███████████████████████████▊    | 1.8MB 11.4MB/s eta 0:00:01\r\u001b[K     |███████████████████████████▉    | 1.8MB 11.4MB/s eta 0:00:01\r\u001b[K     |████████████████████████████    | 1.8MB 11.4MB/s eta 0:00:01\r\u001b[K     |████████████████████████████▏   | 1.8MB 11.4MB/s eta 0:00:01\r\u001b[K     |████████████████████████████▍   | 1.8MB 11.4MB/s eta 0:00:01\r\u001b[K     |████████████████████████████▌   | 1.8MB 11.4MB/s eta 0:00:01\r\u001b[K     |████████████████████████████▊   | 1.8MB 11.4MB/s eta 0:00:01\r\u001b[K     |████████████████████████████▉   | 1.9MB 11.4MB/s eta 0:00:01\r\u001b[K     |█████████████████████████████   | 1.9MB 11.4MB/s eta 0:00:01\r\u001b[K     |█████████████████████████████▏  | 1.9MB 11.4MB/s eta 0:00:01\r\u001b[K     |█████████████████████████████▎  | 1.9MB 11.4MB/s eta 0:00:01\r\u001b[K     |█████████████████████████████▌  | 1.9MB 11.4MB/s eta 0:00:01\r\u001b[K     |█████████████████████████████▋  | 1.9MB 11.4MB/s eta 0:00:01\r\u001b[K     |█████████████████████████████▉  | 1.9MB 11.4MB/s eta 0:00:01\r\u001b[K     |██████████████████████████████  | 1.9MB 11.4MB/s eta 0:00:01\r\u001b[K     |██████████████████████████████  | 1.9MB 11.4MB/s eta 0:00:01\r\u001b[K     |██████████████████████████████▎ | 1.9MB 11.4MB/s eta 0:00:01\r\u001b[K     |██████████████████████████████▍ | 2.0MB 11.4MB/s eta 0:00:01\r\u001b[K     |██████████████████████████████▋ | 2.0MB 11.4MB/s eta 0:00:01\r\u001b[K     |██████████████████████████████▊ | 2.0MB 11.4MB/s eta 0:00:01\r\u001b[K     |███████████████████████████████ | 2.0MB 11.4MB/s eta 0:00:01\r\u001b[K     |███████████████████████████████ | 2.0MB 11.4MB/s eta 0:00:01\r\u001b[K     |███████████████████████████████▎| 2.0MB 11.4MB/s eta 0:00:01\r\u001b[K     |███████████████████████████████▍| 2.0MB 11.4MB/s eta 0:00:01\r\u001b[K     |███████████████████████████████▌| 2.0MB 11.4MB/s eta 0:00:01\r\u001b[K     |███████████████████████████████▊| 2.0MB 11.4MB/s eta 0:00:01\r\u001b[K     |███████████████████████████████▉| 2.0MB 11.4MB/s eta 0:00:01\r\u001b[K     |████████████████████████████████| 2.1MB 11.4MB/s \n",
            "\u001b[?25hRequirement already satisfied, skipping upgrade: promise<3,>=2.0 in /usr/local/lib/python3.7/dist-packages (from wandb) (2.3)\n",
            "Collecting sentry-sdk>=0.4.0\n",
            "\u001b[?25l  Downloading https://files.pythonhosted.org/packages/f3/92/5a33be64990ba815364a8f2dd9e6f51de60d23dfddafb4f1fc5577d4dc64/sentry_sdk-1.0.0-py2.py3-none-any.whl (131kB)\n",
            "\u001b[K     |████████████████████████████████| 133kB 40.1MB/s \n",
            "\u001b[?25hRequirement already satisfied, skipping upgrade: protobuf>=3.12.0 in /usr/local/lib/python3.7/dist-packages (from wandb) (3.12.4)\n",
            "Requirement already satisfied, skipping upgrade: PyYAML in /usr/local/lib/python3.7/dist-packages (from wandb) (3.13)\n",
            "Requirement already satisfied, skipping upgrade: psutil>=5.0.0 in /usr/local/lib/python3.7/dist-packages (from wandb) (5.4.8)\n",
            "Collecting subprocess32>=3.5.3\n",
            "\u001b[?25l  Downloading https://files.pythonhosted.org/packages/32/c8/564be4d12629b912ea431f1a50eb8b3b9d00f1a0b1ceff17f266be190007/subprocess32-3.5.4.tar.gz (97kB)\n",
            "\u001b[K     |████████████████████████████████| 102kB 10.9MB/s \n",
            "\u001b[?25hCollecting configparser>=3.8.1\n",
            "  Downloading https://files.pythonhosted.org/packages/fd/01/ff260a18caaf4457eb028c96eeb405c4a230ca06c8ec9c1379f813caa52e/configparser-5.0.2-py3-none-any.whl\n",
            "Requirement already satisfied, skipping upgrade: Click>=7.0 in /usr/local/lib/python3.7/dist-packages (from wandb) (7.1.2)\n",
            "Requirement already satisfied, skipping upgrade: requests<3,>=2.0.0 in /usr/local/lib/python3.7/dist-packages (from wandb) (2.23.0)\n",
            "Collecting GitPython>=1.0.0\n",
            "\u001b[?25l  Downloading https://files.pythonhosted.org/packages/a6/99/98019716955ba243657daedd1de8f3a88ca1f5b75057c38e959db22fb87b/GitPython-3.1.14-py3-none-any.whl (159kB)\n",
            "\u001b[K     |████████████████████████████████| 163kB 37.1MB/s \n",
            "\u001b[?25hCollecting shortuuid>=0.5.0\n",
            "  Downloading https://files.pythonhosted.org/packages/25/a6/2ecc1daa6a304e7f1b216f0896b26156b78e7c38e1211e9b798b4716c53d/shortuuid-1.0.1-py3-none-any.whl\n",
            "Collecting pathtools\n",
            "  Downloading https://files.pythonhosted.org/packages/e7/7f/470d6fcdf23f9f3518f6b0b76be9df16dcc8630ad409947f8be2eb0ed13a/pathtools-0.1.2.tar.gz\n",
            "Requirement already satisfied, skipping upgrade: python-dateutil>=2.6.1 in /usr/local/lib/python3.7/dist-packages (from wandb) (2.8.1)\n",
            "Collecting docker-pycreds>=0.4.0\n",
            "  Downloading https://files.pythonhosted.org/packages/f5/e8/f6bd1eee09314e7e6dee49cbe2c5e22314ccdb38db16c9fc72d2fa80d054/docker_pycreds-0.4.0-py2.py3-none-any.whl\n",
            "Requirement already satisfied, skipping upgrade: six>=1.13.0 in /usr/local/lib/python3.7/dist-packages (from wandb) (1.15.0)\n",
            "Requirement already satisfied, skipping upgrade: certifi in /usr/local/lib/python3.7/dist-packages (from sentry-sdk>=0.4.0->wandb) (2020.12.5)\n",
            "Requirement already satisfied, skipping upgrade: urllib3>=1.10.0 in /usr/local/lib/python3.7/dist-packages (from sentry-sdk>=0.4.0->wandb) (1.24.3)\n",
            "Requirement already satisfied, skipping upgrade: setuptools in /usr/local/lib/python3.7/dist-packages (from protobuf>=3.12.0->wandb) (54.2.0)\n",
            "Requirement already satisfied, skipping upgrade: idna<3,>=2.5 in /usr/local/lib/python3.7/dist-packages (from requests<3,>=2.0.0->wandb) (2.10)\n",
            "Requirement already satisfied, skipping upgrade: chardet<4,>=3.0.2 in /usr/local/lib/python3.7/dist-packages (from requests<3,>=2.0.0->wandb) (3.0.4)\n",
            "Collecting gitdb<5,>=4.0.1\n",
            "\u001b[?25l  Downloading https://files.pythonhosted.org/packages/ea/e8/f414d1a4f0bbc668ed441f74f44c116d9816833a48bf81d22b697090dba8/gitdb-4.0.7-py3-none-any.whl (63kB)\n",
            "\u001b[K     |████████████████████████████████| 71kB 8.2MB/s \n",
            "\u001b[?25hCollecting smmap<5,>=3.0.1\n",
            "  Downloading https://files.pythonhosted.org/packages/68/ee/d540eb5e5996eb81c26ceffac6ee49041d473bc5125f2aa995cf51ec1cf1/smmap-4.0.0-py2.py3-none-any.whl\n",
            "Building wheels for collected packages: subprocess32, pathtools\n",
            "  Building wheel for subprocess32 (setup.py) ... \u001b[?25l\u001b[?25hdone\n",
            "  Created wheel for subprocess32: filename=subprocess32-3.5.4-cp37-none-any.whl size=6489 sha256=b097edbb5fcc0ea78ae265f51957134f579028451d55dfb5a3c33b5511e6b664\n",
            "  Stored in directory: /root/.cache/pip/wheels/68/39/1a/5e402bdfdf004af1786c8b853fd92f8c4a04f22aad179654d1\n",
            "  Building wheel for pathtools (setup.py) ... \u001b[?25l\u001b[?25hdone\n",
            "  Created wheel for pathtools: filename=pathtools-0.1.2-cp37-none-any.whl size=8786 sha256=7d528904a2a2a02fd5d77975df0b77e9a5bf1e9e7153f35227815e434a28d833\n",
            "  Stored in directory: /root/.cache/pip/wheels/0b/04/79/c3b0c3a0266a3cb4376da31e5bfe8bba0c489246968a68e843\n",
            "Successfully built subprocess32 pathtools\n",
            "Installing collected packages: sentry-sdk, subprocess32, configparser, smmap, gitdb, GitPython, shortuuid, pathtools, docker-pycreds, wandb\n",
            "Successfully installed GitPython-3.1.14 configparser-5.0.2 docker-pycreds-0.4.0 gitdb-4.0.7 pathtools-0.1.2 sentry-sdk-1.0.0 shortuuid-1.0.1 smmap-4.0.0 subprocess32-3.5.4 wandb-0.10.26\n",
            "\u001b[34m\u001b[1mwandb\u001b[0m: Appending key for api.wandb.ai to your netrc file: /root/.netrc\n"
          ],
          "name": "stdout"
        }
      ]
    },
    {
      "cell_type": "markdown",
      "metadata": {
        "id": "DpyxSKZYucrL"
      },
      "source": [
        "# **Question 4(b)**"
      ]
    },
    {
      "cell_type": "code",
      "metadata": {
        "colab": {
          "base_uri": "https://localhost:8080/",
          "height": 596
        },
        "id": "Zfa1hOhOzVVc",
        "outputId": "a13107f7-d482-4259-b698-c75e0da2cf13"
      },
      "source": [
        "wandb.init(project='Assignment 2',entity='adi00510')"
      ],
      "execution_count": null,
      "outputs": [
        {
          "output_type": "stream",
          "text": [
            "\u001b[34m\u001b[1mwandb\u001b[0m: Currently logged in as: \u001b[33madi00510\u001b[0m (use `wandb login --relogin` to force relogin)\n"
          ],
          "name": "stderr"
        },
        {
          "output_type": "display_data",
          "data": {
            "text/html": [
              "\n",
              "                Tracking run with wandb version 0.10.26<br/>\n",
              "                Syncing run <strong style=\"color:#cdcd00\">stellar-meadow-96</strong> to <a href=\"https://wandb.ai\" target=\"_blank\">Weights & Biases</a> <a href=\"https://docs.wandb.com/integrations/jupyter.html\" target=\"_blank\">(Documentation)</a>.<br/>\n",
              "                Project page: <a href=\"https://wandb.ai/adi00510/Assignment%202\" target=\"_blank\">https://wandb.ai/adi00510/Assignment%202</a><br/>\n",
              "                Run page: <a href=\"https://wandb.ai/adi00510/Assignment%202/runs/144x2a4u\" target=\"_blank\">https://wandb.ai/adi00510/Assignment%202/runs/144x2a4u</a><br/>\n",
              "                Run data is saved locally in <code>/content/wandb/run-20210414_160554-144x2a4u</code><br/><br/>\n",
              "            "
            ],
            "text/plain": [
              "<IPython.core.display.HTML object>"
            ]
          },
          "metadata": {
            "tags": []
          }
        },
        {
          "output_type": "execute_result",
          "data": {
            "text/plain": [
              "<wandb.sdk.wandb_run.Run at 0x7f96004e2150>"
            ],
            "text/html": [
              "<h1>Run(144x2a4u)</h1><iframe src=\"https://wandb.ai/adi00510/Assignment%202/runs/144x2a4u\" style=\"border:none;width:100%;height:400px\"></iframe>"
            ]
          },
          "metadata": {
            "tags": []
          },
          "execution_count": 12
        }
      ]
    },
    {
      "cell_type": "code",
      "metadata": {
        "id": "TFX92x-ZSKOu"
      },
      "source": [
        "classes=[\"Amphibia\",\"Animalia\",\"Arachnida\",\"Aves\",\"Fungi\",\"Insecta\",\"Mammalia\",\"Mollusca\",\"Plantae\",\"Reptilia\"]\n",
        "images=[]\n",
        "labels=[]\n",
        "x,y = cnn.test_generator.next()\n",
        "for i in range(0,30):\n",
        "    temp = x[i]\n",
        "    temp= np.expand_dims(temp, axis=0)\n",
        "    images.append(temp)\n",
        "    labels.append(classes[np.argmax(model.predict(temp))])"
      ],
      "execution_count": null,
      "outputs": []
    },
    {
      "cell_type": "code",
      "metadata": {
        "id": "Vl8WtsPpzVSP"
      },
      "source": [
        "wandb.log({\"Question 4\": [wandb.Image(img, caption=lbl) for img,lbl in zip(images,labels)]})"
      ],
      "execution_count": null,
      "outputs": []
    },
    {
      "cell_type": "markdown",
      "metadata": {
        "id": "7tBZh5MRunqC"
      },
      "source": [
        "# **Question 4(c)**"
      ]
    },
    {
      "cell_type": "code",
      "metadata": {
        "colab": {
          "base_uri": "https://localhost:8080/",
          "height": 1000,
          "referenced_widgets": [
            "852fb8f14b984f4cb8ce63a70f5bde97",
            "3b176da6f24c418f947a7c7612127314",
            "87d11402efa34804b227576c065178f4",
            "010784b35a944642bf792eccf0f4becf",
            "a51ad4a6d44942f1b6a78a43276bf404",
            "a534946fbea54d15a037859be405acfd",
            "fc8e6e09e2b34444bf26a29ce6e9fb90",
            "4df33afd2091421c9ee2898473d73a79"
          ]
        },
        "id": "37KcGI7JFB_9",
        "outputId": "9af660e2-bae1-4cbf-a366-aa270a9f0b41"
      },
      "source": [
        "wandb.init(project='Assignment 2',entity='adi00510')"
      ],
      "execution_count": null,
      "outputs": [
        {
          "output_type": "display_data",
          "data": {
            "text/html": [
              "Finishing last run (ID:144x2a4u) before initializing another..."
            ],
            "text/plain": [
              "<IPython.core.display.HTML object>"
            ]
          },
          "metadata": {
            "tags": []
          }
        },
        {
          "output_type": "display_data",
          "data": {
            "text/html": [
              "<br/>Waiting for W&B process to finish, PID 565<br/>Program ended successfully."
            ],
            "text/plain": [
              "<IPython.core.display.HTML object>"
            ]
          },
          "metadata": {
            "tags": []
          }
        },
        {
          "output_type": "display_data",
          "data": {
            "application/vnd.jupyter.widget-view+json": {
              "model_id": "852fb8f14b984f4cb8ce63a70f5bde97",
              "version_minor": 0,
              "version_major": 2
            },
            "text/plain": [
              "VBox(children=(Label(value=' 2.97MB of 2.97MB uploaded (0.00MB deduped)\\r'), FloatProgress(value=1.0, max=1.0)…"
            ]
          },
          "metadata": {
            "tags": []
          }
        },
        {
          "output_type": "display_data",
          "data": {
            "text/html": [
              "Find user logs for this run at: <code>/content/wandb/run-20210414_160554-144x2a4u/logs/debug.log</code>"
            ],
            "text/plain": [
              "<IPython.core.display.HTML object>"
            ]
          },
          "metadata": {
            "tags": []
          }
        },
        {
          "output_type": "display_data",
          "data": {
            "text/html": [
              "Find internal logs for this run at: <code>/content/wandb/run-20210414_160554-144x2a4u/logs/debug-internal.log</code>"
            ],
            "text/plain": [
              "<IPython.core.display.HTML object>"
            ]
          },
          "metadata": {
            "tags": []
          }
        },
        {
          "output_type": "display_data",
          "data": {
            "text/html": [
              "<h3>Run summary:</h3><br/><style>\n",
              "    table.wandb td:nth-child(1) { padding: 0 10px; text-align: right }\n",
              "    </style><table class=\"wandb\">\n",
              "<tr><td>_runtime</td><td>46</td></tr><tr><td>_timestamp</td><td>1618416400</td></tr><tr><td>_step</td><td>0</td></tr></table>"
            ],
            "text/plain": [
              "<IPython.core.display.HTML object>"
            ]
          },
          "metadata": {
            "tags": []
          }
        },
        {
          "output_type": "display_data",
          "data": {
            "text/html": [
              "<h3>Run history:</h3><br/><style>\n",
              "    table.wandb td:nth-child(1) { padding: 0 10px; text-align: right }\n",
              "    </style><table class=\"wandb\">\n",
              "<tr><td>_runtime</td><td>▁</td></tr><tr><td>_timestamp</td><td>▁</td></tr><tr><td>_step</td><td>▁</td></tr></table><br/>"
            ],
            "text/plain": [
              "<IPython.core.display.HTML object>"
            ]
          },
          "metadata": {
            "tags": []
          }
        },
        {
          "output_type": "display_data",
          "data": {
            "text/html": [
              "Synced 4 W&B file(s), 30 media file(s), 0 artifact file(s) and 0 other file(s)"
            ],
            "text/plain": [
              "<IPython.core.display.HTML object>"
            ]
          },
          "metadata": {
            "tags": []
          }
        },
        {
          "output_type": "display_data",
          "data": {
            "text/html": [
              "\n",
              "                    <br/>Synced <strong style=\"color:#cdcd00\">stellar-meadow-96</strong>: <a href=\"https://wandb.ai/adi00510/Assignment%202/runs/144x2a4u\" target=\"_blank\">https://wandb.ai/adi00510/Assignment%202/runs/144x2a4u</a><br/>\n",
              "                "
            ],
            "text/plain": [
              "<IPython.core.display.HTML object>"
            ]
          },
          "metadata": {
            "tags": []
          }
        },
        {
          "output_type": "display_data",
          "data": {
            "text/html": [
              "...Successfully finished last run (ID:144x2a4u). Initializing new run:<br/><br/>"
            ],
            "text/plain": [
              "<IPython.core.display.HTML object>"
            ]
          },
          "metadata": {
            "tags": []
          }
        },
        {
          "output_type": "display_data",
          "data": {
            "text/html": [
              "\n",
              "                Tracking run with wandb version 0.10.26<br/>\n",
              "                Syncing run <strong style=\"color:#cdcd00\">fluent-jazz-97</strong> to <a href=\"https://wandb.ai\" target=\"_blank\">Weights & Biases</a> <a href=\"https://docs.wandb.com/integrations/jupyter.html\" target=\"_blank\">(Documentation)</a>.<br/>\n",
              "                Project page: <a href=\"https://wandb.ai/adi00510/Assignment%202\" target=\"_blank\">https://wandb.ai/adi00510/Assignment%202</a><br/>\n",
              "                Run page: <a href=\"https://wandb.ai/adi00510/Assignment%202/runs/1gc55ngu\" target=\"_blank\">https://wandb.ai/adi00510/Assignment%202/runs/1gc55ngu</a><br/>\n",
              "                Run data is saved locally in <code>/content/wandb/run-20210414_160715-1gc55ngu</code><br/><br/>\n",
              "            "
            ],
            "text/plain": [
              "<IPython.core.display.HTML object>"
            ]
          },
          "metadata": {
            "tags": []
          }
        },
        {
          "output_type": "execute_result",
          "data": {
            "text/plain": [
              "<wandb.sdk.wandb_run.Run at 0x7f96f7ab7350>"
            ],
            "text/html": [
              "<h1>Run(1gc55ngu)</h1><iframe src=\"https://wandb.ai/adi00510/Assignment%202/runs/1gc55ngu\" style=\"border:none;width:100%;height:400px\"></iframe>"
            ]
          },
          "metadata": {
            "tags": []
          },
          "execution_count": 18
        }
      ]
    },
    {
      "cell_type": "code",
      "metadata": {
        "id": "2xZtTHZ-E9Wr"
      },
      "source": [
        "images = []\n",
        "labels=[]\n",
        "\n",
        "for i in range(model.weights[0].shape[3]):\n",
        "    w = model.weights[0][:,:,:,i].numpy()\n",
        "    for i in range(3):\n",
        "        w[i] = (w[i] - w[i].min())/(w[i].max() - w[i].min())\n",
        "    w = w/np.linalg.norm(w)\n",
        "    images.append(w)\n",
        "    temp=\"kernel-\"+str(i)\n",
        "    labels.append(temp)\n",
        "\n",
        "wandb.log({\"Question 4C\": [wandb.Image(img, caption=lbl) for img,lbl in zip(images,labels)]})   "
      ],
      "execution_count": 9,
      "outputs": []
    }
  ]
}