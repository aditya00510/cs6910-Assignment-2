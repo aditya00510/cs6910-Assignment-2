{
  "nbformat": 4,
  "nbformat_minor": 0,
  "metadata": {
    "colab": {
      "name": "DLA2_Part B.ipynb",
      "provenance": [],
      "collapsed_sections": []
    },
    "kernelspec": {
      "name": "python3",
      "display_name": "Python 3"
    },
    "language_info": {
      "name": "python"
    },
    "accelerator": "GPU"
  },
  "cells": [
    {
      "cell_type": "code",
      "metadata": {
        "colab": {
          "base_uri": "https://localhost:8080/"
        },
        "id": "gIRTW_3p4mBT",
        "outputId": "2bb4a4bb-649d-4df1-c204-eb533f565af4"
      },
      "source": [
        "!wget --header=\"Host: storage.googleapis.com\" --header=\"User-Agent: Mozilla/5.0 (Windows NT 10.0; Win64; x64) AppleWebKit/537.36 (KHTML, like Gecko) Chrome/89.0.4389.114 Safari/537.36 Edg/89.0.774.68\" --header=\"Accept: text/html,application/xhtml+xml,application/xml;q=0.9,image/webp,image/apng,*/*;q=0.8,application/signed-exchange;v=b3;q=0.9\" --header=\"Accept-Language: en-US,en;q=0.9\" \"https://storage.googleapis.com/wandb_datasets/nature_12K.zip\" -c -O 'nature_12K.zip'"
      ],
      "execution_count": 1,
      "outputs": [
        {
          "output_type": "stream",
          "text": [
            "--2021-04-15 06:18:33--  https://storage.googleapis.com/wandb_datasets/nature_12K.zip\n",
            "Resolving storage.googleapis.com (storage.googleapis.com)... 142.250.73.240, 172.253.115.128, 172.253.122.128, ...\n",
            "Connecting to storage.googleapis.com (storage.googleapis.com)|142.250.73.240|:443... connected.\n",
            "HTTP request sent, awaiting response... 200 OK\n",
            "Length: 3816687935 (3.6G) [application/zip]\n",
            "Saving to: ‘nature_12K.zip’\n",
            "\n",
            "nature_12K.zip      100%[===================>]   3.55G  33.2MB/s    in 64s     \n",
            "\n",
            "2021-04-15 06:19:37 (56.5 MB/s) - ‘nature_12K.zip’ saved [3816687935/3816687935]\n",
            "\n"
          ],
          "name": "stdout"
        }
      ]
    },
    {
      "cell_type": "code",
      "metadata": {
        "id": "slrXA8A-44YZ"
      },
      "source": [
        "!unzip '/content/nature_12K.zip'"
      ],
      "execution_count": null,
      "outputs": []
    },
    {
      "cell_type": "code",
      "metadata": {
        "id": "-f0CLP4c44bb"
      },
      "source": [
        "import shutil\n",
        "import pandas as pd\n",
        "import os\n",
        "import numpy as np\n",
        "import matplotlib.pyplot as plt\n",
        "import cv2\n",
        "import tensorflow as tf\n",
        "from tensorflow.keras.layers import Dense,Input,Conv2D,MaxPooling2D,Activation,Dropout,Flatten,MaxPool2D\n",
        "from tensorflow.keras.models import Model,Sequential\n",
        "import random \n",
        "from keras.preprocessing.image import ImageDataGenerator\n",
        "from keras import applications"
      ],
      "execution_count": 3,
      "outputs": []
    },
    {
      "cell_type": "code",
      "metadata": {
        "id": "AU97yT8tYu8C"
      },
      "source": [
        "class CNN:\n",
        "  def __init__(self,pretrain=False,pretrained_model=\"InceptionResNetV2\",layers_to_freeze=15,no_of_filters=16,size_of_filters=(3,3)\n",
        "                ,activation_func=\"relu\",neurons_in_dense_layer=128\n",
        "               ,dropout=0.3,batch_norm=False,doubling=False,augmentation=False):\n",
        "    self.augmentation = augmentation\n",
        "    self.pretrain = pretrain\n",
        "    self.trained_model = pretrained_model\n",
        "    self.layers_to_freeze = layers_to_freeze\n",
        "    self.dropout = dropout\n",
        "    self.doubling = doubling\n",
        "    self.batch_norm = batch_norm\n",
        "    self.no_of_filters = no_of_filters\n",
        "    self.size_of_filters = size_of_filters\n",
        "    self.activation_func = activation_func\n",
        "    self.neurons_in_dense_layer = neurons_in_dense_layer\n",
        "    self.train_path = \"/content/inaturalist_12K/train/\"\n",
        "    self.cv_path = \"/content/inaturalist_12K/cv/\"\n",
        "    self.test_path = \"/content/inaturalist_12K/val/\"\n",
        "    \n",
        "  def generate_data(self,img_shape):\n",
        "    if self.augmentation:\n",
        "      train_datagen = ImageDataGenerator(rescale=1./255,shear_range=0.2,horizontal_flip=True)\n",
        "    else:\n",
        "      train_datagen = ImageDataGenerator(rescale=1./255)\n",
        "    cv_datagen = ImageDataGenerator(rescale=1./255)\n",
        "    test_datagen = ImageDataGenerator(rescale=1./255)\n",
        "\n",
        "    self.train_generator = train_datagen.flow_from_directory(self.train_path,target_size=img_shape,seed=10,batch_size=64,shuffle=True,class_mode=\"categorical\",color_mode=\"rgb\")\n",
        "    self.cv_generator = cv_datagen.flow_from_directory(self.cv_path,target_size=img_shape,seed=10,batch_size=64,shuffle=True,class_mode=\"categorical\",color_mode=\"rgb\")\n",
        "    self.test_generator = test_datagen.flow_from_directory(self.test_path,target_size=img_shape,seed=10,batch_size=64,shuffle=True,class_mode=\"categorical\",color_mode=\"rgb\")\n",
        "\n",
        "  def create_cv_data(self):\n",
        "    classes = sorted(os.listdir(self.train_path))[1:]\n",
        "    os.mkdir(self.cv_path)\n",
        "    for cls in classes:\n",
        "      os.mkdir(self.cv_path+cls)\n",
        "\n",
        "    for cls in classes:\n",
        "      no_of_files = len(os.listdir(self.train_path+cls))\n",
        "      files = os.listdir(self.train_path+cls)\n",
        "      files = np.asarray(files)\n",
        "\n",
        "      x = [i for i in range(no_of_files)]\n",
        "      random.shuffle(x)\n",
        "      index = x[:int(0.1*no_of_files)]\n",
        "      file_names = files[index]\n",
        "\n",
        "      for z in file_names:\n",
        "        shutil.move(self.train_path+cls+\"/\"+z , self.cv_path+cls+\"/\"+z)\n",
        "\n",
        "  def create_model(self):\n",
        "    if self.pretrain == False:\n",
        "      self.generate_data((224,224))\n",
        "      model = Sequential()\n",
        "      random.seed(10)\n",
        "      for i in range(5):\n",
        "        if i==0:\n",
        "          model.add(Conv2D(self.no_of_filters, self.size_of_filters ,padding=\"same\",activation= self.activation_func, input_shape=(224,224,3)))\n",
        "        else:\n",
        "          if self.doubling:\n",
        "            model.add(Conv2D(self.no_of_filters*(2**i), self.size_of_filters ,padding=\"same\",activation = self.activation_func))\n",
        "          else:\n",
        "            model.add(Conv2D(self.no_of_filters, self.size_of_filters ,padding=\"same\",activation = self.activation_func))\n",
        "        \n",
        "        if i!=0 and i%2 == 0 and self.batch_norm:\n",
        "          model.add(BatchNormalization())\n",
        "        model.add(MaxPooling2D(pool_size=(2, 2))) \n",
        "\n",
        "      model.add(Flatten())\n",
        "      model.add(Dropout(self.dropout))\n",
        "      model.add(Dense(self.neurons_in_dense_layer,activation = self.activation_func))\n",
        "      if self.batch_norm:\n",
        "        model.add(BatchNormalization())\n",
        "      model.add(Dropout(self.dropout))\n",
        "      model.add(Dense(10,activation='softmax'))\n",
        "\n",
        "    else:\n",
        "      self.generate_data((224,224))\n",
        "      if (self.trained_model==\"InceptionV3\"):\n",
        "        pretrained= applications.InceptionV3(include_top=True)\n",
        "      elif (self.trained_model==\"InceptionResNetV2\"):\n",
        "        pretrained= applications.InceptionResNetV2(include_top=True)\n",
        "      elif (self.trained_model==\"ResNet50\"):\n",
        "        pretrained = applications.ResNet50(include_top=True)\n",
        "      elif (self.trained_model==\"Xception\"):\n",
        "        pretrained = applications.Xception(include_top=True)\n",
        "      elif (self.trained_model==\"VGG16\"):\n",
        "        pretrained = applications.VGG16(include_top=True)\n",
        "      elif (self.trained_model==\"VGG19\"):\n",
        "        pretrained= applications.VGG19(include_top=True)\n",
        "      elif (self.trained_model==\"ResNet101\"):\n",
        "        pretrained = applications.ResNet101(include_top=True)\n",
        "      elif (self.trained_model==\"MobileNet\"):\n",
        "        pretrained = applications.MobileNet(include_top=True)\n",
        "      elif (self.trained_model==\"DenseNet201\"):\n",
        "        pretrained= applications.DenseNet201(include_top=True)\n",
        "      elif (self.trained_model==\"NASNetLarge\"):\n",
        "        pretrained= applications.NASNetLarge(include_top=True)\n",
        "      elif (self.trained_model==\"NASNetMobile\"):\n",
        "        pretrained = applications.NASNetMobile(include_top=True)\n",
        "      x = Dense(10, activation='softmax', name='predictions')(pretrained.layers[-2].output)\n",
        "\n",
        "      for layer in pretrained.layers[:self.layers_to_freeze]:\n",
        "        layer.trainable = False\n",
        "\n",
        "      model = Model(inputs=pretrained.input, outputs=x)\n",
        "\n",
        "    return model\n"
      ],
      "execution_count": 15,
      "outputs": []
    },
    {
      "cell_type": "code",
      "metadata": {
        "id": "-9EKCtX6LoTA"
      },
      "source": [
        "cnn = CNN()\n",
        "cnn.create_cv_data()"
      ],
      "execution_count": 6,
      "outputs": []
    },
    {
      "cell_type": "code",
      "metadata": {
        "id": "ZgKSW-rODXUm"
      },
      "source": [
        "sweep_config={\n",
        "    'method': 'random',\n",
        "    'metric': {\n",
        "        'name': 'accuracy',\n",
        "        'goal': 'maximize'\n",
        "    },\n",
        "    'parameters':{\n",
        "        'epochs':{\n",
        "            'values':[3,5,6]\n",
        "        },\n",
        "        'layers_to_freeze':{\n",
        "            'values':[0,8,15,20,30]\n",
        "        },\n",
        "        'trained_model':{\n",
        "           'values':[\"InceptionV3\", \"InceptionResNetV2\", \"ResNet50\", \"Xception\",\"VGG16\",\"VGG19\",\"ResNet101\",\"MobileNet\",\"DenseNet201\",\"NASNetLarge\",\"NASNetMobile\"]\n",
        "        }\n",
        "  \n",
        "    }\n",
        "}"
      ],
      "execution_count": 7,
      "outputs": []
    },
    {
      "cell_type": "code",
      "metadata": {
        "id": "XgoH9iNcDXOn",
        "colab": {
          "base_uri": "https://localhost:8080/"
        },
        "outputId": "dc6cc621-0626-474f-eb1a-b81882dcd84b"
      },
      "source": [
        "!pip install --upgrade wandb\n",
        "import wandb\n",
        "!wandb login 3c967c63b099a3b2acd600aa30008e7de1ea6498\n",
        "from wandb.keras import WandbCallback"
      ],
      "execution_count": 8,
      "outputs": [
        {
          "output_type": "stream",
          "text": [
            "Collecting wandb\n",
            "\u001b[?25l  Downloading https://files.pythonhosted.org/packages/d5/5d/20ab24504de2669c9a76a50c9bdaeb44a440b0e5e4b92be881ed323857b1/wandb-0.10.26-py2.py3-none-any.whl (2.1MB)\n",
            "\u001b[K     |████████████████████████████████| 2.1MB 17.6MB/s \n",
            "\u001b[?25hCollecting pathtools\n",
            "  Downloading https://files.pythonhosted.org/packages/e7/7f/470d6fcdf23f9f3518f6b0b76be9df16dcc8630ad409947f8be2eb0ed13a/pathtools-0.1.2.tar.gz\n",
            "Requirement already satisfied, skipping upgrade: Click>=7.0 in /usr/local/lib/python3.7/dist-packages (from wandb) (7.1.2)\n",
            "Collecting sentry-sdk>=0.4.0\n",
            "\u001b[?25l  Downloading https://files.pythonhosted.org/packages/f3/92/5a33be64990ba815364a8f2dd9e6f51de60d23dfddafb4f1fc5577d4dc64/sentry_sdk-1.0.0-py2.py3-none-any.whl (131kB)\n",
            "\u001b[K     |████████████████████████████████| 133kB 56.4MB/s \n",
            "\u001b[?25hCollecting subprocess32>=3.5.3\n",
            "\u001b[?25l  Downloading https://files.pythonhosted.org/packages/32/c8/564be4d12629b912ea431f1a50eb8b3b9d00f1a0b1ceff17f266be190007/subprocess32-3.5.4.tar.gz (97kB)\n",
            "\u001b[K     |████████████████████████████████| 102kB 13.4MB/s \n",
            "\u001b[?25hRequirement already satisfied, skipping upgrade: six>=1.13.0 in /usr/local/lib/python3.7/dist-packages (from wandb) (1.15.0)\n",
            "Requirement already satisfied, skipping upgrade: psutil>=5.0.0 in /usr/local/lib/python3.7/dist-packages (from wandb) (5.4.8)\n",
            "Requirement already satisfied, skipping upgrade: protobuf>=3.12.0 in /usr/local/lib/python3.7/dist-packages (from wandb) (3.12.4)\n",
            "Collecting docker-pycreds>=0.4.0\n",
            "  Downloading https://files.pythonhosted.org/packages/f5/e8/f6bd1eee09314e7e6dee49cbe2c5e22314ccdb38db16c9fc72d2fa80d054/docker_pycreds-0.4.0-py2.py3-none-any.whl\n",
            "Collecting configparser>=3.8.1\n",
            "  Downloading https://files.pythonhosted.org/packages/fd/01/ff260a18caaf4457eb028c96eeb405c4a230ca06c8ec9c1379f813caa52e/configparser-5.0.2-py3-none-any.whl\n",
            "Requirement already satisfied, skipping upgrade: PyYAML in /usr/local/lib/python3.7/dist-packages (from wandb) (3.13)\n",
            "Collecting GitPython>=1.0.0\n",
            "\u001b[?25l  Downloading https://files.pythonhosted.org/packages/a6/99/98019716955ba243657daedd1de8f3a88ca1f5b75057c38e959db22fb87b/GitPython-3.1.14-py3-none-any.whl (159kB)\n",
            "\u001b[K     |████████████████████████████████| 163kB 50.9MB/s \n",
            "\u001b[?25hRequirement already satisfied, skipping upgrade: requests<3,>=2.0.0 in /usr/local/lib/python3.7/dist-packages (from wandb) (2.23.0)\n",
            "Requirement already satisfied, skipping upgrade: promise<3,>=2.0 in /usr/local/lib/python3.7/dist-packages (from wandb) (2.3)\n",
            "Collecting shortuuid>=0.5.0\n",
            "  Downloading https://files.pythonhosted.org/packages/25/a6/2ecc1daa6a304e7f1b216f0896b26156b78e7c38e1211e9b798b4716c53d/shortuuid-1.0.1-py3-none-any.whl\n",
            "Requirement already satisfied, skipping upgrade: python-dateutil>=2.6.1 in /usr/local/lib/python3.7/dist-packages (from wandb) (2.8.1)\n",
            "Requirement already satisfied, skipping upgrade: certifi in /usr/local/lib/python3.7/dist-packages (from sentry-sdk>=0.4.0->wandb) (2020.12.5)\n",
            "Requirement already satisfied, skipping upgrade: urllib3>=1.10.0 in /usr/local/lib/python3.7/dist-packages (from sentry-sdk>=0.4.0->wandb) (1.24.3)\n",
            "Requirement already satisfied, skipping upgrade: setuptools in /usr/local/lib/python3.7/dist-packages (from protobuf>=3.12.0->wandb) (54.2.0)\n",
            "Collecting gitdb<5,>=4.0.1\n",
            "\u001b[?25l  Downloading https://files.pythonhosted.org/packages/ea/e8/f414d1a4f0bbc668ed441f74f44c116d9816833a48bf81d22b697090dba8/gitdb-4.0.7-py3-none-any.whl (63kB)\n",
            "\u001b[K     |████████████████████████████████| 71kB 10.4MB/s \n",
            "\u001b[?25hRequirement already satisfied, skipping upgrade: idna<3,>=2.5 in /usr/local/lib/python3.7/dist-packages (from requests<3,>=2.0.0->wandb) (2.10)\n",
            "Requirement already satisfied, skipping upgrade: chardet<4,>=3.0.2 in /usr/local/lib/python3.7/dist-packages (from requests<3,>=2.0.0->wandb) (3.0.4)\n",
            "Collecting smmap<5,>=3.0.1\n",
            "  Downloading https://files.pythonhosted.org/packages/68/ee/d540eb5e5996eb81c26ceffac6ee49041d473bc5125f2aa995cf51ec1cf1/smmap-4.0.0-py2.py3-none-any.whl\n",
            "Building wheels for collected packages: pathtools, subprocess32\n",
            "  Building wheel for pathtools (setup.py) ... \u001b[?25l\u001b[?25hdone\n",
            "  Created wheel for pathtools: filename=pathtools-0.1.2-cp37-none-any.whl size=8786 sha256=1ddb4a443362341092940cc5b4c6ff2a422e7cf538b8e8d436b214ae599431df\n",
            "  Stored in directory: /root/.cache/pip/wheels/0b/04/79/c3b0c3a0266a3cb4376da31e5bfe8bba0c489246968a68e843\n",
            "  Building wheel for subprocess32 (setup.py) ... \u001b[?25l\u001b[?25hdone\n",
            "  Created wheel for subprocess32: filename=subprocess32-3.5.4-cp37-none-any.whl size=6489 sha256=bf5608b7e55e67f4e9a83548594c5a605dbaf172efe8bfc05927bdad63eef560\n",
            "  Stored in directory: /root/.cache/pip/wheels/68/39/1a/5e402bdfdf004af1786c8b853fd92f8c4a04f22aad179654d1\n",
            "Successfully built pathtools subprocess32\n",
            "Installing collected packages: pathtools, sentry-sdk, subprocess32, docker-pycreds, configparser, smmap, gitdb, GitPython, shortuuid, wandb\n",
            "Successfully installed GitPython-3.1.14 configparser-5.0.2 docker-pycreds-0.4.0 gitdb-4.0.7 pathtools-0.1.2 sentry-sdk-1.0.0 shortuuid-1.0.1 smmap-4.0.0 subprocess32-3.5.4 wandb-0.10.26\n",
            "\u001b[34m\u001b[1mwandb\u001b[0m: Appending key for api.wandb.ai to your netrc file: /root/.netrc\n"
          ],
          "name": "stdout"
        }
      ]
    },
    {
      "cell_type": "code",
      "metadata": {
        "colab": {
          "base_uri": "https://localhost:8080/"
        },
        "id": "OcbH94ttDXKs",
        "outputId": "42a4085e-6955-4ca6-beff-52832382a4af"
      },
      "source": [
        "sweep_id = wandb.sweep(sweep_config,project=\"finetuning pretrained model\", entity=\"adi00510\")"
      ],
      "execution_count": 9,
      "outputs": [
        {
          "output_type": "stream",
          "text": [
            "Create sweep with ID: ru1t705e\n",
            "Sweep URL: https://wandb.ai/adi00510/finetuning%20pretrained%20model/sweeps/ru1t705e\n"
          ],
          "name": "stdout"
        }
      ]
    },
    {
      "cell_type": "code",
      "metadata": {
        "id": "9gECCLgXDW_-"
      },
      "source": [
        "def train():\n",
        "    config_defaults={\n",
        "      'epochs':5,\n",
        "      'trained_model':\"InceptionV3\",\n",
        "      'layers_to_freeze':15\n",
        "       }\n",
        "    \n",
        "    wandb.init(config=config_defaults)\n",
        "    config=wandb.config\n",
        "    \n",
        "    cnn = CNN(pretrain=True,pretrained_model=config.trained_model,layers_to_freeze=config.layers_to_freeze)\n",
        "    model = cnn.create_model()\n",
        "    model.compile(optimizer=tf.keras.optimizers.Adam(lr=0.0001),loss='categorical_crossentropy',metrics=['accuracy'])\n",
        "    model.fit(cnn.train_generator, validation_data = cnn.cv_generator,epochs=config.epochs,callbacks=[WandbCallback()])\n",
        "\n"
      ],
      "execution_count": 13,
      "outputs": []
    },
    {
      "cell_type": "code",
      "metadata": {
        "id": "Woc6xA18DW8b"
      },
      "source": [
        "wandb.agent(sweep_id,train)"
      ],
      "execution_count": null,
      "outputs": []
    }
  ]
}